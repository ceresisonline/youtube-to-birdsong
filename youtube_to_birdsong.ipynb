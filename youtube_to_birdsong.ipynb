{
  "nbformat": 4,
  "nbformat_minor": 0,
  "metadata": {
    "colab": {
      "name": "youtube_to_birdsong.ipynb",
      "provenance": [],
      "collapsed_sections": [
        "531EXK54NdEq",
        "JR-uZdLaqLRM",
        "2vApcrxXr6Hx"
      ],
      "toc_visible": true,
      "include_colab_link": true
    },
    "kernelspec": {
      "display_name": "Python 3",
      "name": "python3"
    },
    "language_info": {
      "name": "python"
    }
  },
  "cells": [
    {
      "cell_type": "markdown",
      "metadata": {
        "id": "view-in-github",
        "colab_type": "text"
      },
      "source": [
        "<a href=\"https://colab.research.google.com/github/ceresisonline/youtube-to-birdsong/blob/main/youtube_to_birdsong.ipynb\" target=\"_parent\"><img src=\"https://colab.research.google.com/assets/colab-badge.svg\" alt=\"Open In Colab\"/></a>"
      ]
    },
    {
      "cell_type": "markdown",
      "metadata": {
        "id": "531EXK54NdEq"
      },
      "source": [
        "#Install Dependencies\n"
      ]
    },
    {
      "cell_type": "code",
      "metadata": {
        "id": "ySqHl0pDMgVe"
      },
      "source": [
        "!git clone https://github.com/ceresisonline/youtube-to-birdsong\n",
        "\n",
        "!apt install sox\n",
        "\n",
        "!sudo -H pip install --upgrade youtube-dl\n",
        "\n",
        "!chmod +x /content/youtube-to-birdsong/csdr-install.sh\n",
        "\n",
        "!pip install ffmpeg-normalize\n",
        "\n",
        "!/content/youtube-to-birdsong/csdr-install.sh"
      ],
      "execution_count": null,
      "outputs": []
    },
    {
      "cell_type": "markdown",
      "metadata": {
        "id": "8UahfGBFOKdi"
      },
      "source": [
        "# Content Generation\n"
      ]
    },
    {
      "cell_type": "code",
      "metadata": {
        "id": "FvKB_hy7tgER"
      },
      "source": [
        "#delete files from previous executions \n",
        "!rm -rf *.wav *.mp3 *.mp4 *.prof *.mov\n",
        "\n",
        "#@markdown Insert the link to the YouTube video you want to download & make into birdsong. Try to find a slow paced video and avoid avoid music videos.\n",
        "\n",
        "# Björk talking about her TV: https://www.youtube.com/watch?v=75WFTHpOw8Y\n",
        "YouTube_Link= \"https://www.youtube.com/watch?v=75WFTHpOw8Y\" #@param {type:\"string\"}   \n",
        "\n",
        "#@markdown Set resolution of downloaded video. YouTube downloads take a while, so keep the max resolution low if possible.\n",
        "MaxVideoHeight = \"720\" #@param {type:\"string\"}  \n",
        "\n",
        "#@markdown Reduce background noise in the video. Don't change this if you don't know what you're doing. Try not to go below 0.2 or above 0.3\n",
        "Static_Reduce = \"0.28\" #@param {type:\"string\"}    \n",
        "\n",
        "#download video\n",
        "!youtube-dl -f \"bestvideo[height<={MaxVideoHeight}]+bestaudio/best[height<={MaxVideoHeight}]\" --recode-video mp4 -o vid {YouTube_Link}\n",
        "\n",
        "#save audio from video\n",
        "!ffmpeg -i vid.mp4 -vn cc-raw.wav\n",
        "\n",
        "#Generate a sample of noise from the audio of the file:\n",
        "#-t duration: the duration (h:m:s.ms) of audio segment to cut that represents the noise.\n",
        "!ffmpeg -i cc-raw.wav -acodec pcm_s16le -ar 128k -vn -ss 00:00:00.0 -t 00:00:01.0 noiseaud.wav\n",
        "\n",
        "#Generate a noise profile in sox:\n",
        "!sox noiseaud.wav -n noiseprof noise.prof\n",
        "\n",
        "#Clean the noise samples from the audio stream:\n",
        "!sox cc-raw.wav cc.wav noisered noise.prof {Static_Reduce}\n",
        "\n",
        "#convert audio from video into birdsong\n",
        "#requires soX and csdr\n",
        "!perl /content/youtube-to-birdsong/blackbird.pl -n\n",
        "\n",
        "!ffmpeg-normalize birdsong1.wav -o birdsong2.wav\n",
        "\n",
        "#add birdsounds to original video\n",
        "!ffmpeg -i vid.mp4 -i birdsong2.wav -map 0:v -map 1:a -c:v copy -shortest vid+newaudio.mp4"
      ],
      "execution_count": null,
      "outputs": []
    },
    {
      "cell_type": "markdown",
      "metadata": {
        "id": "JR-uZdLaqLRM"
      },
      "source": [
        "# View new generated video with blackbird audio"
      ]
    },
    {
      "cell_type": "code",
      "metadata": {
        "id": "koo8lawBmHNj"
      },
      "source": [
        "from IPython.display import HTML\n",
        "from base64 import b64encode\n",
        "\n",
        "print (\"Download this at /content/vid+newaudio.mp4\" )\n",
        "\n",
        "mp4 = open('/content/vid+newaudio.mp4','rb').read()\n",
        "data_url = \"data:video/mp4;base64,\" + b64encode(mp4).decode()\n",
        "HTML(\"\"\"\n",
        "<video width=400 controls>\n",
        "      <source src=\"%s\" type=\"video/mp4\">\n",
        "</video>\n",
        "\"\"\" % data_url)\n",
        "\n"
      ],
      "execution_count": null,
      "outputs": []
    },
    {
      "cell_type": "code",
      "metadata": {
        "id": "MxcUzx6xjSh3"
      },
      "source": [
        "import librosa\n",
        "import IPython.display as ipd\n",
        "\n",
        "print (\"Download this at /content/birdsong2.wav\" )\n",
        "\n",
        "print (\"New Audio:\")\n",
        "\n",
        "x, sr = librosa.load('birdsong2.wav') \n",
        "ipd.Audio(x, rate=sr)"
      ],
      "execution_count": null,
      "outputs": []
    },
    {
      "cell_type": "markdown",
      "metadata": {
        "id": "2vApcrxXr6Hx"
      },
      "source": [
        "# View downloaded video with original audio\n",
        "\n",
        "\n"
      ]
    },
    {
      "cell_type": "code",
      "metadata": {
        "id": "ADMEIlCFPDzP"
      },
      "source": [
        "from IPython.display import HTML\n",
        "from base64 import b64encode\n",
        "\n",
        "print (\"Download this at /content/vid.mp4\" )\n",
        "\n",
        "mp4 = open('/content/vid.mp4','rb').read()\n",
        "data_url = \"data:video/mp4;base64,\" + b64encode(mp4).decode()\n",
        "HTML(\"\"\"\n",
        "<video width=400 controls>\n",
        "      <source src=\"%s\" type=\"video/mp4\">\n",
        "</video>\n",
        "\"\"\" % data_url)"
      ],
      "execution_count": null,
      "outputs": []
    },
    {
      "cell_type": "code",
      "metadata": {
        "id": "SmnEBNYljwO8"
      },
      "source": [
        "import librosa\n",
        "import IPython.display as ipd\n",
        "\n",
        "print (\"Download this at /content/cc-raw.wav\" )\n",
        "\n",
        "print (\"Original video audio:\")\n",
        "\n",
        "x, sr = librosa.load('cc-raw.wav') \n",
        "ipd.Audio(x, rate=sr)"
      ],
      "execution_count": null,
      "outputs": []
    },
    {
      "cell_type": "markdown",
      "metadata": {
        "id": "3IQVFCFBEbQe"
      },
      "source": [
        "# Download generated content"
      ]
    },
    {
      "cell_type": "code",
      "metadata": {
        "id": "r4ywd0FKD_BB"
      },
      "source": [
        "#@markdown Check these boxes to download the generated content. Make sure you have allowed Google Colab to download multiple files in your browser settings.\n",
        "\n",
        "#@markdown Downloads from Google Colab tend to take a while, so I would suggest previewing it with the cells above to see if you really want it.\n",
        "import os\n",
        "from google.colab import files\n",
        "\n",
        "SAVE_BLACKBIRD_VIDEO = True #@param {type:\"boolean\"}\n",
        "SAVE_BLACKBIRD_AUDIO = True #@param {type:\"boolean\"}\n",
        "SAVE_ORIGINAL_VIDEO = False #@param {type:\"boolean\"}\n",
        "SAVE_ORIGINAL_AUDIO = False #@param {type:\"boolean\"}\n",
        "\n",
        "if SAVE_BLACKBIRD_VIDEO:\n",
        "  os.rename('vid+newaudio.mp4', 'blackbird_video.mp4')\n",
        "  from google.colab import files\n",
        "  files.download( \"/content/blackbird_video.mp4\" ) \n",
        "\n",
        "if SAVE_BLACKBIRD_AUDIO:\n",
        "  from google.colab import files\n",
        "  os.rename('birdsong2.wav', 'blackbird_audio.mp4')\n",
        "  files.download( \"/content/blackbird_audio.mp4\" ) \n",
        "\n",
        "if SAVE_ORIGINAL_VIDEO:\n",
        "  from google.colab import files\n",
        "  os.rename('vid.mp4', 'original_video.mp4')\n",
        "  files.download( \"/content/original_video.mp4\" ) \n",
        "\n",
        "if SAVE_ORIGINAL_AUDIO:\n",
        "  from google.colab import files\n",
        "  os.rename('cc-raw', 'original_audio.wav')\n",
        "  files.download( \"/content/original_audio.wav\" ) "
      ],
      "execution_count": null,
      "outputs": []
    }
  ]
}